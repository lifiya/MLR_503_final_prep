{
 "cells": [
  {
   "cell_type": "markdown",
   "id": "2079be18-1f31-48a7-8aa0-812aba4e6087",
   "metadata": {},
   "source": [
    "<a href=\"https://www.aus.edu/\"><img src=\"https://i.imgur.com/pdZvnSD.png\" width=200> </a>\n",
    "\n",
    "<h1 align=center><font size = 5>Data Exploration, Cleaning, and Preparation - Titanic Case Study</font>\n",
    "<h1 align=center><font size = 5>Prepared by Alex Aklson, Ph.D.</font>\n",
    "<h1 align=center><font size = 5>September 19, 2024</font>"
   ]
  },
  {
   "cell_type": "markdown",
   "id": "8bcb9fb2-2b23-4c33-abff-df6d392f031a",
   "metadata": {},
   "source": [
    "   "
   ]
  },
  {
   "cell_type": "markdown",
   "id": "8daa50b6-ef23-46d4-832a-f1ca9b36e7da",
   "metadata": {},
   "source": [
    "    "
   ]
  },
  {
   "cell_type": "markdown",
   "id": "ef1e538b-e00a-495e-b832-54d81b80e824",
   "metadata": {},
   "source": [
    "## Import Libraries <a id=\"import-libraries\"></a>"
   ]
  },
  {
   "cell_type": "code",
   "execution_count": null,
   "id": "92f22326-0713-4729-a122-9b41b1cedce3",
   "metadata": {},
   "outputs": [],
   "source": [
    "import pandas as pd\n",
    "import numpy as np\n",
    "import matplotlib.pyplot as plt\n",
    "import seaborn as sns\n",
    "\n",
    "from sklearn.preprocessing import StandardScaler, Binarizer, OneHotEncoder, OrdinalEncoder\n",
    "from scipy.stats import pearsonr, spearmanr, chi2_contingency, pointbiserialr, f_oneway\n",
    "\n",
    "from sklearn.impute import SimpleImputer\n",
    "\n",
    "pd.set_option(\"display.max_columns\", None) # to display all columns in a dataframe"
   ]
  },
  {
   "cell_type": "markdown",
   "id": "75a1c6a8-a239-4c12-8b37-43b17e72ef31",
   "metadata": {},
   "source": [
    "Load Titanic dataset"
   ]
  },
  {
   "cell_type": "code",
   "execution_count": null,
   "id": "fc59aaea-5089-41f7-b9a8-a232bd4fc177",
   "metadata": {},
   "outputs": [],
   "source": [
    "titanic = sns.load_dataset('titanic')"
   ]
  },
  {
   "cell_type": "markdown",
   "id": "bc39f4ca-7a09-4482-83a1-1c32e8b4755a",
   "metadata": {},
   "source": [
    "View the first five objects / instances /samples"
   ]
  },
  {
   "cell_type": "code",
   "execution_count": null,
   "id": "66faa9aa-c508-4c44-bc7e-65d6a7a92f71",
   "metadata": {
    "scrolled": true
   },
   "outputs": [],
   "source": [
    "titanic.head()"
   ]
  },
  {
   "cell_type": "markdown",
   "id": "9c9f76fe-6464-4859-9ce1-08e9fc20e8ba",
   "metadata": {},
   "source": [
    "Get the number of objects and attributes"
   ]
  },
  {
   "cell_type": "code",
   "execution_count": null,
   "id": "1349d432-9212-4acb-bf8a-7dce689b89e9",
   "metadata": {},
   "outputs": [],
   "source": [
    "titanic.shape"
   ]
  },
  {
   "cell_type": "markdown",
   "id": "4fc65a0c-bbdf-44c2-b981-d8ed5d805c6c",
   "metadata": {},
   "source": [
    "## Data Exploration <a id=\"data-exploration\"></a>"
   ]
  },
  {
   "cell_type": "markdown",
   "id": "7b8a7026-c61f-4628-8aab-f78c0ba79e66",
   "metadata": {},
   "source": [
    "Identifying Data Types (categorical, nominal, ordinal, numerical)"
   ]
  },
  {
   "cell_type": "code",
   "execution_count": null,
   "id": "e666c4db-59c5-4579-8e26-a7aa26c3f6e2",
   "metadata": {
    "scrolled": true
   },
   "outputs": [],
   "source": [
    "print(\"Data Types in Titanic Dataset:\\n\", titanic.dtypes)"
   ]
  },
  {
   "cell_type": "code",
   "execution_count": null,
   "id": "7e742b57-8c8a-48bb-b40a-f4fa1763ede6",
   "metadata": {},
   "outputs": [],
   "source": [
    "titanic.describe()"
   ]
  },
  {
   "cell_type": "markdown",
   "id": "0b3c0d2b-8117-4091-b6c8-44dd046ab09e",
   "metadata": {},
   "source": [
    "Check for missing values in the dataset"
   ]
  },
  {
   "cell_type": "code",
   "execution_count": null,
   "id": "dc4da535-81a4-449a-a877-80a03f53966a",
   "metadata": {},
   "outputs": [],
   "source": [
    "missing_data = titanic.isnull().sum()\n",
    "\n",
    "print(\"Missing Data in the Titanic Dataset:\\n\", missing_data)"
   ]
  },
  {
   "cell_type": "markdown",
   "id": "6f0df83b-0eb7-4718-ad28-3071dd5cc937",
   "metadata": {},
   "source": [
    "We see that we have 177 missing values in **age**, 688 missing values in **deck**, and 2 missing values in **embarked** and **embark_town**."
   ]
  },
  {
   "cell_type": "markdown",
   "id": "e86a5962-69ca-48bf-9b49-667449e4cf92",
   "metadata": {},
   "source": [
    "Let's start visualizing the dataset"
   ]
  },
  {
   "cell_type": "markdown",
   "id": "6a4a5608-615f-4354-953b-99b047e927f7",
   "metadata": {},
   "source": [
    "### 1. Visualizing Attributes - Numerical Attributes"
   ]
  },
  {
   "cell_type": "code",
   "execution_count": null,
   "id": "25f26e85-80df-444a-aa10-a37e14edff32",
   "metadata": {},
   "outputs": [],
   "source": [
    "sns.histplot(titanic['age'], kde=True)\n",
    "plt.title(\"Age Distribution\")\n",
    "plt.show()"
   ]
  },
  {
   "cell_type": "markdown",
   "id": "d87732f0-221c-4494-b266-649418b43a8f",
   "metadata": {},
   "source": [
    "We observe a slight skewness to the right. We confirm this by noting a difference between the mean and the median values."
   ]
  },
  {
   "cell_type": "code",
   "execution_count": null,
   "id": "67090175-9f1c-4950-a25a-20b24b62d1aa",
   "metadata": {},
   "outputs": [],
   "source": [
    "print(titanic['age'].mean(), titanic['age'].median())"
   ]
  },
  {
   "cell_type": "markdown",
   "id": "2abd066e-aea4-488e-b206-71e40765f447",
   "metadata": {},
   "source": [
    "Howeve, the difference is *NOT* that significant."
   ]
  },
  {
   "cell_type": "markdown",
   "id": "27a94cd3-3099-4c41-9aa4-d4cd0d5f02ab",
   "metadata": {},
   "source": [
    "Let's visualize the distribution for the fare attribute."
   ]
  },
  {
   "cell_type": "code",
   "execution_count": null,
   "id": "9d4a3b1e-23de-4f42-820a-52f7ca9dd76a",
   "metadata": {},
   "outputs": [],
   "source": [
    "sns.histplot(titanic['fare'], kde=True)\n",
    "plt.title(\"Fare Distribution\")\n",
    "plt.show()"
   ]
  },
  {
   "cell_type": "markdown",
   "id": "25f2e13c-404b-4a6e-acff-dabb87a68068",
   "metadata": {},
   "source": [
    "Wow! This is a distribution with a strong skewness to the right."
   ]
  },
  {
   "cell_type": "code",
   "execution_count": null,
   "id": "adc74293-2f0a-4e0b-8b21-75c146c83777",
   "metadata": {},
   "outputs": [],
   "source": [
    "print(titanic['fare'].mean(), titanic['fare'].median())"
   ]
  },
  {
   "cell_type": "markdown",
   "id": "e780a12e-e625-4ba2-8288-a579b742d875",
   "metadata": {},
   "source": [
    "And the difference between the mean and median is significant. The mean is more than twice as much as the median. So we will most likely need to transform the fare attribute into a normal distribution before we feed it into a machine learning algorithm."
   ]
  },
  {
   "cell_type": "markdown",
   "id": "abf66681-e423-4c73-b819-44cd0053c08d",
   "metadata": {},
   "source": [
    "Let's proceed with the rest of the numerical attributes, but instead of repeating the same code again and again, let's define a function that takes in the numerical attribute or feature as input and generates the distribution plot along with printing the mean, the median, and the range."
   ]
  },
  {
   "cell_type": "code",
   "execution_count": null,
   "id": "cd95c703-7e3a-42ce-bd73-97781b3b31c5",
   "metadata": {},
   "outputs": [],
   "source": [
    "def visualize_numerical_feature(feature):\n",
    "    sns.histplot(titanic[feature], kde=True)\n",
    "    plt.title(\"{} Distribution\".format(feature))\n",
    "    plt.show()\n",
    "\n",
    "    print(\n",
    "        'mean: ', titanic[feature].mean(), \n",
    "        ', median: ', titanic[feature].median(), \n",
    "        ', range: ', titanic[feature].max() - titanic[feature].min()\n",
    "    )"
   ]
  },
  {
   "cell_type": "code",
   "execution_count": null,
   "id": "e3993d44-03bd-459c-b096-186b5b0d1dc4",
   "metadata": {},
   "outputs": [],
   "source": [
    "visualize_numerical_feature('age')"
   ]
  },
  {
   "cell_type": "code",
   "execution_count": null,
   "id": "02b493e8-d523-4ac2-b287-bda268d9d942",
   "metadata": {},
   "outputs": [],
   "source": [
    "visualize_numerical_feature('fare')"
   ]
  },
  {
   "cell_type": "code",
   "execution_count": null,
   "id": "f2baa827-70d1-4ac1-bfcf-c06bec15d4dd",
   "metadata": {},
   "outputs": [],
   "source": [
    "visualize_numerical_feature('sibsp')"
   ]
  },
  {
   "cell_type": "code",
   "execution_count": null,
   "id": "034fca66-d8f0-485c-98c2-49a9f7ebe103",
   "metadata": {},
   "outputs": [],
   "source": [
    "visualize_numerical_feature('parch')"
   ]
  },
  {
   "cell_type": "markdown",
   "id": "15d800d6-f11a-4e06-844c-5bf76b23c470",
   "metadata": {},
   "source": [
    "We also note right skewness in the distrubtions of **nsibsp** and **parch** attributes."
   ]
  },
  {
   "cell_type": "markdown",
   "id": "57000e2c-ca1d-4cb5-9572-90a934de9b3a",
   "metadata": {},
   "source": [
    "### 2. Visualization Attributes - Categorical Attributes"
   ]
  },
  {
   "cell_type": "markdown",
   "id": "b4cd9b6f-28b8-49cc-aeda-09db1e6f8d61",
   "metadata": {},
   "source": [
    "There will be five categorical attributes that we will explore. So instead of repeating the same code again and again, let's define a function that takes in the feature name as input, and displays a frequency count for each value of the feature and create a bar chart."
   ]
  },
  {
   "cell_type": "code",
   "execution_count": null,
   "id": "bb310891-8f48-4ef8-8e10-334fdbd448ae",
   "metadata": {},
   "outputs": [],
   "source": [
    "def visualize_categorical_feature(feature):\n",
    "    print(titanic[feature].value_counts())\n",
    "\n",
    "    plt.figure(figsize=(6, 4))\n",
    "    sns.countplot(data=titanic, x=feature)\n",
    "    plt.title(f\"Frequency of {feature}\")\n",
    "    plt.show()"
   ]
  },
  {
   "cell_type": "markdown",
   "id": "e10cc378-56a1-474d-85bb-b8a3983d068d",
   "metadata": {},
   "source": [
    "Let's start with sex."
   ]
  },
  {
   "cell_type": "code",
   "execution_count": null,
   "id": "a4a95fd3-5d91-4392-b0bb-d7ea68bb034b",
   "metadata": {},
   "outputs": [],
   "source": [
    "visualize_categorical_feature('sex')"
   ]
  },
  {
   "cell_type": "markdown",
   "id": "b0e87b31-8673-43af-bd4e-a3405ae575e2",
   "metadata": {},
   "source": [
    "There was many more male passengers compared to female passengers. "
   ]
  },
  {
   "cell_type": "code",
   "execution_count": null,
   "id": "87c992dd-c4bd-416c-81e6-5e03cc004697",
   "metadata": {},
   "outputs": [],
   "source": [
    "visualize_categorical_feature('pclass')"
   ]
  },
  {
   "cell_type": "markdown",
   "id": "f633b5df-89c8-4b36-837e-5e3f59462d68",
   "metadata": {},
   "source": [
    "The majority of the passengers were 3rd class passengers."
   ]
  },
  {
   "cell_type": "code",
   "execution_count": null,
   "id": "385ca711-2658-4257-99ad-47c926e6d9ff",
   "metadata": {},
   "outputs": [],
   "source": [
    "visualize_categorical_feature('embarked')"
   ]
  },
  {
   "cell_type": "code",
   "execution_count": null,
   "id": "defee5d0-c2ba-45c7-b9fa-3e7b1b493db5",
   "metadata": {},
   "outputs": [],
   "source": [
    "visualize_categorical_feature('survived')"
   ]
  },
  {
   "cell_type": "markdown",
   "id": "c9c188f6-b4b0-4a2b-b447-3fc319a651c6",
   "metadata": {},
   "source": [
    "More people died than survived. Almost twice as many people died than survived."
   ]
  },
  {
   "cell_type": "code",
   "execution_count": null,
   "id": "eb6b2adf-a215-49fb-bd7c-a3439fec1caa",
   "metadata": {},
   "outputs": [],
   "source": [
    "visualize_categorical_feature('who')"
   ]
  },
  {
   "cell_type": "markdown",
   "id": "b3cefb04-b1bd-4c33-9a40-ebc39bd270bc",
   "metadata": {},
   "source": [
    "## Data Preparation"
   ]
  },
  {
   "cell_type": "markdown",
   "id": "4cd28321-01d6-47a4-a62a-645c98f4c361",
   "metadata": {},
   "source": [
    "### 1. Imputing Missing Values"
   ]
  },
  {
   "cell_type": "markdown",
   "id": "7a915111-2874-47f2-9574-3d15b41b2c7e",
   "metadata": {},
   "source": [
    "Imputing missing values for 'Age' and 'Embarked'"
   ]
  },
  {
   "cell_type": "markdown",
   "id": "a31c8013-2c2e-4392-8ff0-6ec8c8399170",
   "metadata": {},
   "source": [
    "We will use the median to impute the missing **age** values, and the mode to impute the missing **embarked** and **embark_town** missing values."
   ]
  },
  {
   "cell_type": "code",
   "execution_count": null,
   "id": "6230c729-a1ee-4879-b560-8ec67c982849",
   "metadata": {},
   "outputs": [],
   "source": [
    "imputer_median = SimpleImputer(strategy='median')\n",
    "titanic['age'] = imputer_median.fit_transform(titanic[['age']])"
   ]
  },
  {
   "cell_type": "code",
   "execution_count": null,
   "id": "da7e24f0-3b9b-4914-a01b-501f3c1260d0",
   "metadata": {},
   "outputs": [],
   "source": [
    "imputer_mode = SimpleImputer(strategy='most_frequent')\n",
    "titanic['embarked'] = imputer_mode.fit_transform(titanic[['embarked']]).ravel()\n",
    "titanic['embark_town'] = imputer_mode.fit_transform(titanic[['embark_town']]).ravel()"
   ]
  },
  {
   "cell_type": "markdown",
   "id": "7e839347-e58a-4b4e-aab1-3d31004d5293",
   "metadata": {},
   "source": [
    "### 2. Calculating Correlations Between Attributes "
   ]
  },
  {
   "cell_type": "markdown",
   "id": "004ff463-f9d7-4bac-8066-27a0e48de8a8",
   "metadata": {},
   "source": [
    "#### Create the pairplot"
   ]
  },
  {
   "cell_type": "code",
   "execution_count": null,
   "id": "a2304d18-6ae4-470e-b744-c2ea75b20adc",
   "metadata": {},
   "outputs": [],
   "source": [
    "sns.pairplot(titanic)"
   ]
  },
  {
   "cell_type": "markdown",
   "id": "490ec181-b4c7-46e0-809a-c3ab029a019d",
   "metadata": {},
   "source": [
    "#### Correlation Between Fare and Age"
   ]
  },
  {
   "cell_type": "markdown",
   "id": "4111c8cd-eb99-454c-8ffb-043a02e68b99",
   "metadata": {},
   "source": [
    "Pearson correlation between Age and Fare"
   ]
  },
  {
   "cell_type": "code",
   "execution_count": null,
   "id": "e02f0a1c-6b25-43f9-9f60-7d937ad7f670",
   "metadata": {},
   "outputs": [],
   "source": [
    "pearson_corr, pearson_p = pearsonr(titanic['age'], titanic['fare'])\n",
    "print(\n",
    "    \"Pearson correlation between Age and Fare: {}, p-value: {}\".format(pearson_corr, pearson_p)\n",
    ")"
   ]
  },
  {
   "cell_type": "markdown",
   "id": "d7852a45-8b73-451c-ad56-7c7dba78c70b",
   "metadata": {},
   "source": [
    "Spearman's Rank correlation between Age and Fare"
   ]
  },
  {
   "cell_type": "code",
   "execution_count": null,
   "id": "bb8420bf-1bf8-468d-94df-9b4b357b9743",
   "metadata": {},
   "outputs": [],
   "source": [
    "spearman_corr, spearman_p = spearmanr(titanic['age'], titanic['fare'])\n",
    "print(\n",
    "    \"Spearman's rank correlation between Age and Fare: {}, p-value: {}\".format(\n",
    "        spearman_corr, spearman_p\n",
    "    )\n",
    ")"
   ]
  },
  {
   "cell_type": "markdown",
   "id": "c639e9bc-d7de-41dd-b6ca-e64deca4d8ab",
   "metadata": {},
   "source": [
    "Spearman's Rank correlation between Age and sibsp"
   ]
  },
  {
   "cell_type": "code",
   "execution_count": null,
   "id": "07641b9d-2f58-42a0-9c5f-6a161ef5b9dc",
   "metadata": {},
   "outputs": [],
   "source": [
    "spearman_corr, spearman_p = spearmanr(titanic['age'], titanic['sibsp'])\n",
    "print(\n",
    "    \"Spearman's rank correlation between Age and Number of Siblings / Spouse: {}, p-value: {}\".format(\n",
    "        spearman_corr, spearman_p\n",
    "    )\n",
    ")"
   ]
  },
  {
   "cell_type": "markdown",
   "id": "d1d35579-e5e4-41cc-8287-379e978a2c7f",
   "metadata": {},
   "source": [
    "#### Correlations Between Survived and Attributes"
   ]
  },
  {
   "cell_type": "markdown",
   "id": "c6b9c9d4-c0c5-4055-afd1-f8e83a531cac",
   "metadata": {},
   "source": [
    "**Point Biserial correlation between survived and fare**"
   ]
  },
  {
   "cell_type": "code",
   "execution_count": null,
   "id": "342ba960-2196-43fa-946f-94794e4b00f0",
   "metadata": {},
   "outputs": [],
   "source": [
    "point_biserial_corr, point_biserial_p = pointbiserialr(titanic['survived'], titanic['fare'])\n",
    "print(\n",
    "    \"Point Biserial correlation between survived and fare: {}, p-value: {}\".format(\n",
    "        point_biserial_corr, point_biserial_p\n",
    "    )\n",
    ")"
   ]
  },
  {
   "cell_type": "markdown",
   "id": "7146052c-67e8-4442-9ef4-2714f6deb56c",
   "metadata": {},
   "source": [
    "There is a weak positive correlation between the fare and survival. This suggests that as the fare increases, the likelihood of survival tends to increase."
   ]
  },
  {
   "cell_type": "markdown",
   "id": "9463a480-f775-415f-b596-adbc88ca7743",
   "metadata": {},
   "source": [
    "**Point Biserial correlation between survived and age**"
   ]
  },
  {
   "cell_type": "code",
   "execution_count": null,
   "id": "038d3c4f-464e-4b00-878f-63cb378e9b71",
   "metadata": {},
   "outputs": [],
   "source": [
    "point_biserial_corr, point_biserial_p = pointbiserialr(titanic['survived'], titanic['age'])\n",
    "print(\n",
    "    \"Point Biserial correlation between survived and age: {}, p-value: {}\".format(\n",
    "        point_biserial_corr, point_biserial_p\n",
    "    )\n",
    ")"
   ]
  },
  {
   "cell_type": "markdown",
   "id": "947b66c6-4d6d-4155-872e-0a598b8c9f7f",
   "metadata": {},
   "source": [
    "There is a very weak negative correlation between age and survival, meaning that as age increases, the likelihood of survival slightly decreases. "
   ]
  },
  {
   "cell_type": "markdown",
   "id": "3f07b76f-271e-40c3-ab4c-7e32814f515c",
   "metadata": {},
   "source": [
    "**Point Biserial correlation between survived and sibsp**"
   ]
  },
  {
   "cell_type": "code",
   "execution_count": null,
   "id": "224b5d5c-fc58-4240-957c-2dd4b5f96af6",
   "metadata": {},
   "outputs": [],
   "source": [
    "point_biserial_corr, point_biserial_p = pointbiserialr(titanic['survived'], titanic['sibsp'])\n",
    "print(\n",
    "    \"Point Biserial correlation between survived and sibsp: {}, p-value: {}\".format(\n",
    "        point_biserial_corr, point_biserial_p\n",
    "    )\n",
    ")"
   ]
  },
  {
   "cell_type": "markdown",
   "id": "b333f796-4741-4f92-98f7-a2708e02855e",
   "metadata": {},
   "source": [
    "There is a very weak negative correlation between the number of siblings/spouses aboard and survival. This suggests that having more siblings or spouses aboard slightly decreases the likelihood of survival."
   ]
  },
  {
   "cell_type": "markdown",
   "id": "806c0d74-01b4-41e9-9d1d-146a538d9834",
   "metadata": {},
   "source": [
    "**Point Biserial correlation between survived and parch**"
   ]
  },
  {
   "cell_type": "code",
   "execution_count": null,
   "id": "68c6fc5b-9861-4809-a105-3d7ee5e29f11",
   "metadata": {},
   "outputs": [],
   "source": [
    "point_biserial_corr, point_biserial_p = pointbiserialr(titanic['survived'], titanic['parch'])\n",
    "print(\n",
    "    \"Point Biserial correlation between survived and parch: {}, p-value: {}\".format(\n",
    "        point_biserial_corr, point_biserial_p\n",
    "    )\n",
    ")"
   ]
  },
  {
   "cell_type": "markdown",
   "id": "2b02ab57-5dbe-4bea-ba9e-c5f7de352103",
   "metadata": {},
   "source": [
    "There is a weak positive correlation between the number of parents/children aboard and survival. This suggests that having more parents or children aboard is slightly associated with a higher likelihood of survival. "
   ]
  },
  {
   "cell_type": "markdown",
   "id": "8866acad-879c-48a0-95e6-ff0b6a21a333",
   "metadata": {},
   "source": [
    "**Chi2 test between pclass and survived**"
   ]
  },
  {
   "cell_type": "code",
   "execution_count": null,
   "id": "3a411b41-f7a3-4917-b375-18781b2d2883",
   "metadata": {},
   "outputs": [],
   "source": [
    "contingency_table = pd.crosstab(titanic['pclass'], titanic['survived'])\n",
    "chi2, p, dof, expected = chi2_contingency(contingency_table)\n",
    "\n",
    "print(\"Chi-squared Test Statistic: {}\".format(chi2))\n",
    "print(\"p-value: {}\".format(p))\n",
    "print(\"Degrees of Freedom: {}\".format(dof))"
   ]
  },
  {
   "cell_type": "markdown",
   "id": "9ff062af-afcf-4306-958b-a3a98b9bacb2",
   "metadata": {},
   "source": [
    "The Chi-squared test statistic is quite large, which suggests a strong association between the variables pclass and survived."
   ]
  },
  {
   "cell_type": "markdown",
   "id": "11f41451-def2-49d0-9e11-d7066d31ca39",
   "metadata": {},
   "source": [
    "**Chi2 test between embarked and survived**"
   ]
  },
  {
   "cell_type": "code",
   "execution_count": null,
   "id": "cfe376e3-c1c3-492a-a598-769ddfb89803",
   "metadata": {},
   "outputs": [],
   "source": [
    "contingency_table = pd.crosstab(titanic['embarked'], titanic['survived'])\n",
    "chi2, p, dof, expected = chi2_contingency(contingency_table)\n",
    "\n",
    "print(\"Chi-squared Test Statistic: {}\".format(chi2))\n",
    "print(\"p-value: {}\".format(p))\n",
    "print(\"Degrees of Freedom: {}\".format(dof))"
   ]
  },
  {
   "cell_type": "markdown",
   "id": "5e292238-999d-4fd1-b457-243540d23e4f",
   "metadata": {},
   "source": [
    "The high chi-squared statistic suggests that passengers from different embarkation ports had different survival rates."
   ]
  },
  {
   "cell_type": "markdown",
   "id": "dd0620a9-764c-41ca-a9c4-4a73ad332515",
   "metadata": {},
   "source": [
    "**Chi2 test between sex and survived**"
   ]
  },
  {
   "cell_type": "code",
   "execution_count": null,
   "id": "6154e7f3-0ee9-4a3e-ba68-fcdac748e6b6",
   "metadata": {},
   "outputs": [],
   "source": [
    "contingency_table = pd.crosstab(titanic['sex'], titanic['survived'])\n",
    "chi2, p, dof, expected = chi2_contingency(contingency_table)\n",
    "\n",
    "print(\"Chi-squared Test Statistic: {}\".format(chi2))\n",
    "print(\"p-value: {}\".format(p))\n",
    "print(\"Degrees of Freedom: {}\".format(dof))"
   ]
  },
  {
   "cell_type": "markdown",
   "id": "894570cf-17b4-4a89-880b-525250980754",
   "metadata": {},
   "source": [
    "The high chi-squared statistic suggests that whether a passenger was male or female had a very strong influence on their likelihood of survival."
   ]
  },
  {
   "cell_type": "markdown",
   "id": "fa1b548c-01c9-4ea6-9c3a-cdce417a78a9",
   "metadata": {},
   "source": [
    "**chi2 test between who and survived**"
   ]
  },
  {
   "cell_type": "code",
   "execution_count": null,
   "id": "ff85ea53-056f-4412-ae2f-d8c13954f9e8",
   "metadata": {},
   "outputs": [],
   "source": [
    "contingency_table = pd.crosstab(titanic['who'], titanic['survived'])\n",
    "chi2, p, dof, expected = chi2_contingency(contingency_table)\n",
    "\n",
    "print(\"Chi-squared Test Statistic: {}\".format(chi2))\n",
    "print(\"p-value: {}\".format(p))\n",
    "print(\"Degrees of Freedom: {}\".format(dof))"
   ]
  },
  {
   "cell_type": "markdown",
   "id": "58eb803d-c88d-4d7e-a1b2-a9b25daa60b3",
   "metadata": {},
   "source": [
    "There is a highly significant relationship between the who variable (man, woman, child) and survival. This aligns with historical knowledge that women and children were given priority in lifeboats, which greatly increased their chances of survival compared to men."
   ]
  },
  {
   "cell_type": "markdown",
   "id": "ae3ad8ce-de1f-46b6-811b-e454af1865e2",
   "metadata": {},
   "source": [
    "After imputing the missing values and exploring the correlations between the different attributes, let's confirm that we don't have missing values anymore."
   ]
  },
  {
   "cell_type": "code",
   "execution_count": null,
   "id": "fd1f8f21-f802-43ef-9a0d-77ee662aa613",
   "metadata": {},
   "outputs": [],
   "source": [
    "titanic.head()"
   ]
  },
  {
   "cell_type": "code",
   "execution_count": null,
   "id": "d483c6ff-b4b6-42f8-9e82-4e4906af2bea",
   "metadata": {},
   "outputs": [],
   "source": [
    "missing_data = titanic.isnull().sum()\n",
    "\n",
    "print(\"Missing Data in the Titanic Dataset:\\n\", missing_data)"
   ]
  },
  {
   "cell_type": "markdown",
   "id": "28a552b6-1a9b-4ccf-a565-bc4aab68b0d9",
   "metadata": {},
   "source": [
    "### 3. Dropping Attributes"
   ]
  },
  {
   "cell_type": "markdown",
   "id": "58bfd321-4b69-4c1d-8add-18297a5e567b",
   "metadata": {},
   "source": [
    "We will drop: <br>\n",
    "    - **deck**: because of the high number of missing values <br>\n",
    "    - **class**: because it is a duplicate of pclass <br>\n",
    "    - **embark_town**: because it is a duplicate of embarked <br>\n",
    "    - **alive**: because it is a duplicate of suvived <br>\n",
    "    - **adult_male**: because it is a duplicate of sex <br>"
   ]
  },
  {
   "cell_type": "code",
   "execution_count": null,
   "id": "315df2d3-d307-4ae1-bc2c-9f822833e1c8",
   "metadata": {},
   "outputs": [],
   "source": [
    "titanic_cleaned = titanic.drop(['deck', 'class', 'embark_town', 'alive', 'adult_male'], axis=1)"
   ]
  },
  {
   "cell_type": "code",
   "execution_count": null,
   "id": "8213ebed-9da7-43a9-bdaf-9f87b9ae48e9",
   "metadata": {},
   "outputs": [],
   "source": [
    "titanic_cleaned.head()"
   ]
  },
  {
   "cell_type": "markdown",
   "id": "cdb7f770-0469-478a-ae8b-769f8e8918b8",
   "metadata": {},
   "source": [
    "### 3. Handling Skewness in Numerical Features"
   ]
  },
  {
   "cell_type": "markdown",
   "id": "290a19f7-df01-454b-be72-da9ee05bf1f7",
   "metadata": {},
   "source": [
    "Apply log(1 + x) transformation to skewed numerical features: fare, sibsp, parch"
   ]
  },
  {
   "cell_type": "code",
   "execution_count": null,
   "id": "b84c3510-6932-404c-88ac-bb069a41f11a",
   "metadata": {},
   "outputs": [],
   "source": [
    "titanic_cleaned['fare_log'] = np.log1p(titanic_cleaned['fare'])\n",
    "titanic_cleaned['sibsp_log'] = np.log1p(titanic_cleaned['sibsp'])\n",
    "titanic_cleaned['parch_log'] = np.log1p(titanic_cleaned['parch'])"
   ]
  },
  {
   "cell_type": "code",
   "execution_count": null,
   "id": "7c6bb7a1-200a-494c-8c7f-c8dfc76c999f",
   "metadata": {},
   "outputs": [],
   "source": [
    "titanic_cleaned.head()"
   ]
  },
  {
   "cell_type": "markdown",
   "id": "2dae66ef-84d0-4790-9fde-ae0135782f48",
   "metadata": {},
   "source": [
    "### 4. Scaling Numerical Features"
   ]
  },
  {
   "cell_type": "code",
   "execution_count": null,
   "id": "a6106bfe-e27c-47eb-8332-3222cf7e57e7",
   "metadata": {},
   "outputs": [],
   "source": [
    "numerical_features = ['age', 'fare_log', 'sibsp_log', 'parch_log']"
   ]
  },
  {
   "cell_type": "code",
   "execution_count": null,
   "id": "6922ce9e-859a-4be9-a50e-0a7977dce88a",
   "metadata": {},
   "outputs": [],
   "source": [
    "scaler = StandardScaler()\n",
    "titanic_cleaned[numerical_features] = scaler.fit_transform(titanic_cleaned[numerical_features])"
   ]
  },
  {
   "cell_type": "code",
   "execution_count": null,
   "id": "72c416a2-a040-4737-ab79-e27e4ff40dc2",
   "metadata": {},
   "outputs": [],
   "source": [
    "titanic_cleaned.head()"
   ]
  },
  {
   "cell_type": "markdown",
   "id": "e46b42c5-8bc8-4fdb-9abe-f40eb51282a6",
   "metadata": {},
   "source": [
    "### 5. Encoding Categorical Features"
   ]
  },
  {
   "cell_type": "code",
   "execution_count": null,
   "id": "89b189af-378c-4ed5-bdc0-f5e99ecd5dbd",
   "metadata": {},
   "outputs": [],
   "source": [
    "nominal_vars = ['sex', 'who', 'embarked', 'alone']  # nominal variables to be one-hot encoded\n",
    "ordinal_vars = ['pclass']  # ordinal variable to be ordinal encoded"
   ]
  },
  {
   "cell_type": "markdown",
   "id": "eed7f37a-7778-4176-b515-56faa4466860",
   "metadata": {},
   "source": [
    "One-hot encoding nominal variables"
   ]
  },
  {
   "cell_type": "code",
   "execution_count": null,
   "id": "b2725294-1077-4666-979d-dfd90f204594",
   "metadata": {},
   "outputs": [],
   "source": [
    "onehot_encoder = OneHotEncoder(sparse_output=False, drop='first')\n",
    "encoded_nominal = onehot_encoder.fit_transform(titanic_cleaned[nominal_vars])\n",
    "encoded_nominal_df = pd.DataFrame(encoded_nominal, columns=onehot_encoder.get_feature_names_out(nominal_vars))"
   ]
  },
  {
   "cell_type": "code",
   "execution_count": null,
   "id": "2ff8417f-8547-4c31-8ce5-2991f01f4242",
   "metadata": {},
   "outputs": [],
   "source": [
    "encoded_nominal_df"
   ]
  },
  {
   "cell_type": "markdown",
   "id": "12918d8b-d12e-47cb-b80c-909d7b7bac68",
   "metadata": {},
   "source": [
    "Ordinal encoding ordinal variables"
   ]
  },
  {
   "cell_type": "code",
   "execution_count": null,
   "id": "1f70e383-9b3f-4546-bbb3-211547a8574f",
   "metadata": {},
   "outputs": [],
   "source": [
    "ordinal_encoder = OrdinalEncoder()\n",
    "encoded_ordinal = ordinal_encoder.fit_transform(titanic_cleaned[ordinal_vars])\n",
    "encoded_ordinal_df = pd.DataFrame(encoded_ordinal, columns=ordinal_vars)\n",
    "encoded_ordinal_df"
   ]
  },
  {
   "cell_type": "markdown",
   "id": "7dae0971-c1b7-4a5f-94bf-9d84e6afbb8e",
   "metadata": {},
   "source": [
    "Drop the original categorical columns"
   ]
  },
  {
   "cell_type": "code",
   "execution_count": null,
   "id": "051a4d06-48ab-4c90-b0b5-e4ed3867e4cb",
   "metadata": {},
   "outputs": [],
   "source": [
    "titanic_cleaned = titanic_cleaned.drop(nominal_vars + ordinal_vars + ['fare', 'sibsp', 'parch'], axis=1)"
   ]
  },
  {
   "cell_type": "code",
   "execution_count": null,
   "id": "b17c4150-7257-4187-a127-96e4cc2c4445",
   "metadata": {},
   "outputs": [],
   "source": [
    "titanic_cleaned.head()"
   ]
  },
  {
   "cell_type": "markdown",
   "id": "6a5cf3b4-e4d0-4699-9e8d-a04057d71e63",
   "metadata": {},
   "source": [
    "## Prepared Data"
   ]
  },
  {
   "cell_type": "markdown",
   "id": "92ad0c5f-a564-410e-ac2f-f44b2f6ca00b",
   "metadata": {},
   "source": [
    "Combine the encoded nominal, ordinal, and scaled numerical features into one dataframe"
   ]
  },
  {
   "cell_type": "code",
   "execution_count": null,
   "id": "a2e0ed23-da65-4023-a291-1b454e8b0fe8",
   "metadata": {},
   "outputs": [],
   "source": [
    "titanic_final = pd.concat(\n",
    "    [titanic_cleaned, encoded_nominal_df, encoded_ordinal_df], axis=1\n",
    ")"
   ]
  },
  {
   "cell_type": "code",
   "execution_count": null,
   "id": "6ae2cc99-b4ce-4639-8ded-74e391f76b12",
   "metadata": {},
   "outputs": [],
   "source": [
    "print(titanic_final.head())"
   ]
  }
 ],
 "metadata": {
  "kernelspec": {
   "display_name": "Python 3 (ipykernel)",
   "language": "python",
   "name": "python3"
  },
  "language_info": {
   "codemirror_mode": {
    "name": "ipython",
    "version": 3
   },
   "file_extension": ".py",
   "mimetype": "text/x-python",
   "name": "python",
   "nbconvert_exporter": "python",
   "pygments_lexer": "ipython3",
   "version": "3.12.5"
  }
 },
 "nbformat": 4,
 "nbformat_minor": 5
}
