{
 "cells": [
  {
   "cell_type": "markdown",
   "id": "9e73b08d-7782-489a-94a8-d854c0dc074d",
   "metadata": {},
   "source": [
    "<center>\n",
    "    <a href=\"https://www.aus.edu/\"><img src=\"https://i.imgur.com/pdZvnSD.png\" width=200> </a>    \n",
    "</center>\n",
    "<h1 align=center><font size = 5>Principal Component Analysis</font>\n",
    "<h1 align=center><font size = 5>Prepared by Alex Aklson, Ph.D.</font>\n",
    "<h1 align=center><font size = 5>November 28, 2024</font>"
   ]
  },
  {
   "cell_type": "markdown",
   "id": "3d1d2a34-ea16-45c4-8676-39a932903bf3",
   "metadata": {},
   "source": [
    "    "
   ]
  },
  {
   "cell_type": "markdown",
   "id": "3580c36e-35b6-48c5-94f9-22c5de1a5443",
   "metadata": {},
   "source": [
    "    "
   ]
  },
  {
   "cell_type": "code",
   "execution_count": 40,
   "id": "314a3c33-9a8e-4017-b37a-1882e3b8ca4b",
   "metadata": {},
   "outputs": [],
   "source": [
    "import numpy as np\n",
    "import pandas as pd\n",
    "import matplotlib.pyplot as plt\n",
    "\n",
    "from sklearn.datasets import load_iris, load_breast_cancer\n",
    "\n",
    "from sklearn.preprocessing import StandardScaler\n",
    "from sklearn.model_selection import train_test_split\n",
    "\n",
    "from sklearn.decomposition import PCA\n",
    "from sklearn.svm import SVC\n",
    "from sklearn.metrics import accuracy_score"
   ]
  },
  {
   "cell_type": "markdown",
   "id": "add73b60-4bca-45f1-a158-8e624eb8169d",
   "metadata": {},
   "source": [
    "We will load a very simple and popular dataset."
   ]
  },
  {
   "cell_type": "code",
   "execution_count": 41,
   "id": "1137411a-98b3-45e2-b9e1-1ad61443b503",
   "metadata": {},
   "outputs": [],
   "source": [
    "iris = load_iris()\n",
    "X = iris.data\n",
    "y = iris.target\n",
    "features = iris.feature_names\n",
    "\n",
    "iris_data = pd.DataFrame(X, columns=features)\n",
    "iris_data['target'] = y"
   ]
  },
  {
   "cell_type": "code",
   "execution_count": 42,
   "id": "908cd9bd-0670-4a05-9b97-669a24f2a7d7",
   "metadata": {},
   "outputs": [
    {
     "data": {
      "text/html": [
       "<div>\n",
       "<style scoped>\n",
       "    .dataframe tbody tr th:only-of-type {\n",
       "        vertical-align: middle;\n",
       "    }\n",
       "\n",
       "    .dataframe tbody tr th {\n",
       "        vertical-align: top;\n",
       "    }\n",
       "\n",
       "    .dataframe thead th {\n",
       "        text-align: right;\n",
       "    }\n",
       "</style>\n",
       "<table border=\"1\" class=\"dataframe\">\n",
       "  <thead>\n",
       "    <tr style=\"text-align: right;\">\n",
       "      <th></th>\n",
       "      <th>sepal length (cm)</th>\n",
       "      <th>sepal width (cm)</th>\n",
       "      <th>petal length (cm)</th>\n",
       "      <th>petal width (cm)</th>\n",
       "      <th>target</th>\n",
       "    </tr>\n",
       "  </thead>\n",
       "  <tbody>\n",
       "    <tr>\n",
       "      <th>0</th>\n",
       "      <td>5.1</td>\n",
       "      <td>3.5</td>\n",
       "      <td>1.4</td>\n",
       "      <td>0.2</td>\n",
       "      <td>0</td>\n",
       "    </tr>\n",
       "    <tr>\n",
       "      <th>1</th>\n",
       "      <td>4.9</td>\n",
       "      <td>3.0</td>\n",
       "      <td>1.4</td>\n",
       "      <td>0.2</td>\n",
       "      <td>0</td>\n",
       "    </tr>\n",
       "    <tr>\n",
       "      <th>2</th>\n",
       "      <td>4.7</td>\n",
       "      <td>3.2</td>\n",
       "      <td>1.3</td>\n",
       "      <td>0.2</td>\n",
       "      <td>0</td>\n",
       "    </tr>\n",
       "    <tr>\n",
       "      <th>3</th>\n",
       "      <td>4.6</td>\n",
       "      <td>3.1</td>\n",
       "      <td>1.5</td>\n",
       "      <td>0.2</td>\n",
       "      <td>0</td>\n",
       "    </tr>\n",
       "    <tr>\n",
       "      <th>4</th>\n",
       "      <td>5.0</td>\n",
       "      <td>3.6</td>\n",
       "      <td>1.4</td>\n",
       "      <td>0.2</td>\n",
       "      <td>0</td>\n",
       "    </tr>\n",
       "  </tbody>\n",
       "</table>\n",
       "</div>"
      ],
      "text/plain": [
       "   sepal length (cm)  sepal width (cm)  petal length (cm)  petal width (cm)  \\\n",
       "0                5.1               3.5                1.4               0.2   \n",
       "1                4.9               3.0                1.4               0.2   \n",
       "2                4.7               3.2                1.3               0.2   \n",
       "3                4.6               3.1                1.5               0.2   \n",
       "4                5.0               3.6                1.4               0.2   \n",
       "\n",
       "   target  \n",
       "0       0  \n",
       "1       0  \n",
       "2       0  \n",
       "3       0  \n",
       "4       0  "
      ]
     },
     "execution_count": 42,
     "metadata": {},
     "output_type": "execute_result"
    }
   ],
   "source": [
    "iris_data.head()"
   ]
  },
  {
   "cell_type": "code",
   "execution_count": 43,
   "id": "cf743ed5-0693-4978-8d0f-e6a020382caa",
   "metadata": {},
   "outputs": [
    {
     "data": {
      "text/plain": [
       "(150, 5)"
      ]
     },
     "execution_count": 43,
     "metadata": {},
     "output_type": "execute_result"
    }
   ],
   "source": [
    "iris_data.shape"
   ]
  },
  {
   "cell_type": "code",
   "execution_count": 44,
   "id": "e265a29c-237c-4d30-af1a-9f362669514a",
   "metadata": {},
   "outputs": [
    {
     "data": {
      "text/plain": [
       "target\n",
       "0    50\n",
       "1    50\n",
       "2    50\n",
       "Name: count, dtype: int64"
      ]
     },
     "execution_count": 44,
     "metadata": {},
     "output_type": "execute_result"
    }
   ],
   "source": [
    "iris_data['target'].value_counts()"
   ]
  },
  {
   "cell_type": "code",
   "execution_count": 45,
   "id": "4e30a72d-84e2-4678-82a6-df4bd4e68918",
   "metadata": {},
   "outputs": [
    {
     "data": {
      "text/plain": [
       "array(['setosa', 'versicolor', 'virginica'], dtype='<U10')"
      ]
     },
     "execution_count": 45,
     "metadata": {},
     "output_type": "execute_result"
    }
   ],
   "source": [
    "iris.target_names"
   ]
  },
  {
   "cell_type": "markdown",
   "id": "0c09b3f5-1616-4f5a-baf7-155aabe42a52",
   "metadata": {},
   "source": [
    "### Apply PCA Algorithm (Manually)"
   ]
  },
  {
   "cell_type": "markdown",
   "id": "bab93ef4-9acb-4dc3-91cd-ff693563db96",
   "metadata": {},
   "source": [
    "Step 1: Center/Standardize the data."
   ]
  },
  {
   "cell_type": "code",
   "execution_count": 46,
   "id": "5495dbcc-17cd-484b-8cea-db33fe91e54c",
   "metadata": {},
   "outputs": [],
   "source": [
    "scaler = StandardScaler()\n",
    "X_normalized = scaler.fit_transform(X)"
   ]
  },
  {
   "cell_type": "markdown",
   "id": "daa42538-53ec-42b9-acfb-abd55a0af244",
   "metadata": {},
   "source": [
    "Step 2: Calculate the covariance matrix."
   ]
  },
  {
   "cell_type": "code",
   "execution_count": 47,
   "id": "2579ea3c-1525-41d4-9a3e-9a3fb3dc0cc5",
   "metadata": {},
   "outputs": [
    {
     "name": "stdout",
     "output_type": "stream",
     "text": [
      "Covariance Matrix: \n",
      " [[ 1.00671141 -0.11835884  0.87760447  0.82343066]\n",
      " [-0.11835884  1.00671141 -0.43131554 -0.36858315]\n",
      " [ 0.87760447 -0.43131554  1.00671141  0.96932762]\n",
      " [ 0.82343066 -0.36858315  0.96932762  1.00671141]]\n"
     ]
    }
   ],
   "source": [
    "cov_matrix = np.cov(X_normalized.T)\n",
    "print(\"Covariance Matrix: \\n\", cov_matrix)"
   ]
  },
  {
   "cell_type": "markdown",
   "id": "dddb7f15-e36c-47f1-b025-4a5a7e2fcd69",
   "metadata": {},
   "source": [
    "Step 3: Find the eigenvalues and eigenvectors."
   ]
  },
  {
   "cell_type": "code",
   "execution_count": 48,
   "id": "ac631e87-cc57-4289-9409-e9c15b6f46e0",
   "metadata": {},
   "outputs": [
    {
     "name": "stdout",
     "output_type": "stream",
     "text": [
      "Eigenvalues: [2.93808505 0.9201649  0.14774182 0.02085386]\n",
      "Eigenvectors: \n",
      " [[ 0.52106591 -0.37741762 -0.71956635  0.26128628]\n",
      " [-0.26934744 -0.92329566  0.24438178 -0.12350962]\n",
      " [ 0.5804131  -0.02449161  0.14212637 -0.80144925]\n",
      " [ 0.56485654 -0.06694199  0.63427274  0.52359713]]\n"
     ]
    }
   ],
   "source": [
    "eigenvalues, eigenvectors = np.linalg.eig(cov_matrix)\n",
    "print(\"Eigenvalues: {}\".format(eigenvalues))\n",
    "print(\"Eigenvectors: \\n\", eigenvectors)"
   ]
  },
  {
   "cell_type": "markdown",
   "id": "6c463b3d-9777-4b5f-8de0-897758696243",
   "metadata": {},
   "source": [
    "Step 4: Sort eigenvectors by eigenvalues in descending order."
   ]
  },
  {
   "cell_type": "code",
   "execution_count": 49,
   "id": "d6fa55df-053a-4d57-843e-c8f486996432",
   "metadata": {},
   "outputs": [],
   "source": [
    "sorted_indices = np.argsort(eigenvalues)[::-1]\n",
    "\n",
    "eigenvalues = eigenvalues[sorted_indices]\n",
    "eigenvectors = eigenvectors[:, sorted_indices]"
   ]
  },
  {
   "cell_type": "markdown",
   "id": "3f2ed603-fa2d-451b-b1ed-914c469a6aa7",
   "metadata": {},
   "source": [
    "Visualize the cumulative sum of the eigenvalues."
   ]
  },
  {
   "cell_type": "code",
   "execution_count": 50,
   "id": "e2e8ca2a-2a24-4d15-aa41-0794d8a6c362",
   "metadata": {},
   "outputs": [],
   "source": [
    "cumulative_variance = np.cumsum(eigenvalues) / np.sum(eigenvalues) * 100"
   ]
  },
  {
   "cell_type": "code",
   "execution_count": 51,
   "id": "dd99fd36",
   "metadata": {},
   "outputs": [
    {
     "name": "stdout",
     "output_type": "stream",
     "text": [
      "[ 1  4  8 13]\n",
      "13\n",
      "[0.07692308 0.30769231 0.61538462 1.        ]\n"
     ]
    }
   ],
   "source": [
    "x=[1,3,4,5]\n",
    "print(np.cumsum(x))\n",
    "print(np.sum(x))\n",
    "print(np.cumsum(x)/np.sum(x))"
   ]
  },
  {
   "cell_type": "markdown",
   "id": "f0cdf6d2-d3e1-4359-848b-a2201eff563b",
   "metadata": {},
   "source": [
    "Step 5: Select top 2 principal components."
   ]
  },
  {
   "cell_type": "code",
   "execution_count": 53,
   "id": "c79b3314-e925-4f85-9b84-8b1ce414169e",
   "metadata": {},
   "outputs": [
    {
     "name": "stdout",
     "output_type": "stream",
     "text": [
      "(4, 2)\n"
     ]
    }
   ],
   "source": [
    "top_eigenvectors = eigenvectors[:, :2]\n",
    "print(top_eigenvectors.shape)\n",
    "X_pca = X_normalized.dot(top_eigenvectors)"
   ]
  },
  {
   "cell_type": "markdown",
   "id": "0ecd7698-2954-4bc8-9ad5-0a666b01f8d7",
   "metadata": {},
   "source": [
    "Visualize the data."
   ]
  },
  {
   "cell_type": "code",
   "execution_count": 54,
   "id": "27b9a70a-0607-42a5-a0f4-91e2373ea948",
   "metadata": {},
   "outputs": [
    {
     "data": {
      "image/png": "[encoded data removed]",
      "text/plain": [
       "<Figure size 800x600 with 1 Axes>"
      ]
     },
     "metadata": {},
     "output_type": "display_data"
    }
   ],
   "source": [
    "plt.figure(figsize=(8, 6))\n",
    "for target, color, label in zip([0, 1, 2], ['r', 'g', 'b'], iris.target_names):\n",
    "    plt.scatter(X_pca[y == target, 0], X_pca[y == target, 1], color=color, label=label)\n",
    "\n",
    "plt.title(\"PCA of Iris Dataset\")\n",
    "plt.xlabel(\"Principal Component 1\")\n",
    "plt.ylabel(\"Principal Component 2\")\n",
    "plt.legend()\n",
    "plt.show()"
   ]
  },
  {
   "cell_type": "markdown",
   "id": "befd5b01-b713-4fa7-96af-127cd0f9962f",
   "metadata": {},
   "source": [
    "### Apply PCA (Scikit Learn)"
   ]
  },
  {
   "cell_type": "code",
   "execution_count": 55,
   "id": "2c43c817-46e7-4aca-b1cc-6791fc15d0c5",
   "metadata": {},
   "outputs": [],
   "source": [
    "no_components = iris_data.shape[1] - 1"
   ]
  },
  {
   "cell_type": "markdown",
   "id": "b0012bfa-3ee0-4afa-843d-9e1111ee4749",
   "metadata": {},
   "source": [
    "Define an instance of PCA object."
   ]
  },
  {
   "cell_type": "code",
   "execution_count": 56,
   "id": "b4153d1e-0331-4941-bf5a-39198ca23bcb",
   "metadata": {},
   "outputs": [],
   "source": [
    "pca = PCA(n_components=no_components, random_state=42)"
   ]
  },
  {
   "cell_type": "markdown",
   "id": "a585cf62-a2e4-4e6a-8f9b-f4ca52337985",
   "metadata": {},
   "source": [
    "Apply PCA algorithm."
   ]
  },
  {
   "cell_type": "code",
   "execution_count": 57,
   "id": "9cf605d9-cfcf-459e-8a3b-12f195a167fc",
   "metadata": {},
   "outputs": [],
   "source": [
    "X_pca = pca.fit_transform(X_normalized)"
   ]
  },
  {
   "cell_type": "markdown",
   "id": "812a7656-d7d9-4e43-b74e-1264871fb33e",
   "metadata": {},
   "source": [
    "Get the eigenvalues and eignvectors."
   ]
  },
  {
   "cell_type": "code",
   "execution_count": 58,
   "id": "75b9b81f-7a63-48d6-a310-c3ec557c82d3",
   "metadata": {},
   "outputs": [
    {
     "name": "stdout",
     "output_type": "stream",
     "text": [
      "Eigenvalues: [2.93808505 0.9201649  0.14774182 0.02085386]\n",
      "Eigenvectors: \n",
      " [[ 0.52106591  0.37741762  0.71956635 -0.26128628]\n",
      " [-0.26934744  0.92329566 -0.24438178  0.12350962]\n",
      " [ 0.5804131   0.02449161 -0.14212637  0.80144925]\n",
      " [ 0.56485654  0.06694199 -0.63427274 -0.52359713]]\n"
     ]
    }
   ],
   "source": [
    "eigenvalues = pca.explained_variance_\n",
    "eigenvectors = pca.components_\n",
    "\n",
    "print(\"Eigenvalues: {}\".format(eigenvalues))\n",
    "print(\"Eigenvectors: \\n\", eigenvectors.T)"
   ]
  },
  {
   "cell_type": "markdown",
   "id": "86998358-eedd-44a8-9b78-47454a40ac71",
   "metadata": {},
   "source": [
    "Step 5: Select top 2 principal components"
   ]
  },
  {
   "cell_type": "code",
   "execution_count": 59,
   "id": "e271bb0a-76fe-4108-b125-ba529df5c4ca",
   "metadata": {},
   "outputs": [],
   "source": [
    "top_eigenvectors = eigenvectors[:, :2]\n",
    "X_pca = X_normalized.dot(top_eigenvectors)"
   ]
  },
  {
   "cell_type": "code",
   "execution_count": 60,
   "id": "740ba37b",
   "metadata": {},
   "outputs": [
    {
     "name": "stdout",
     "output_type": "stream",
     "text": [
      "(150, 4)\n",
      "(4, 2)\n"
     ]
    }
   ],
   "source": [
    "print(X_normalized.shape)\n",
    "print(top_eigenvectors.shape)"
   ]
  },
  {
   "cell_type": "code",
   "execution_count": 61,
   "id": "b1e2c5ab",
   "metadata": {},
   "outputs": [
    {
     "data": {
      "text/plain": [
       "array([[-7.05398432e-01,  1.34849538e+00],\n",
       "       [-1.26607290e+00,  3.51069520e-01],\n",
       "       [-1.25948347e+00,  8.55311414e-01],\n",
       "       [-1.32770363e+00,  6.47627932e-01],\n",
       "       [-6.81654565e-01,  1.59367132e+00],\n",
       "       [-1.14560300e-01,  2.09159090e+00],\n",
       "       [-1.14235467e+00,  1.31539483e+00],\n",
       "       [-8.14516894e-01,  1.15470193e+00],\n",
       "       [-1.66863545e+00,  3.01711125e-01],\n",
       "       [-1.10390060e+00,  5.33461323e-01],\n",
       "       [-3.01330161e-01,  1.66177593e+00],\n",
       "       [-8.99891489e-01,  1.20608441e+00],\n",
       "       [-1.29481566e+00,  3.67447935e-01],\n",
       "       [-1.73319280e+00,  5.72299310e-01],\n",
       "       [ 8.91616716e-02,  2.21052003e+00],\n",
       "       [ 4.27454015e-01,  3.08416057e+00],\n",
       "       [-2.78153500e-01,  2.14715103e+00],\n",
       "       [-7.39792116e-01,  1.36475323e+00],\n",
       "       [ 2.23624112e-02,  1.76488462e+00],\n",
       "       [-4.38252872e-01,  1.98848222e+00],\n",
       "       [-4.80174505e-01,  9.96376846e-01],\n",
       "       [-5.59526871e-01,  1.79220038e+00],\n",
       "       [-1.09779355e+00,  1.77977647e+00],\n",
       "       [-8.59645213e-01,  9.30519462e-01],\n",
       "       [-7.77196589e-01,  1.16441432e+00],\n",
       "       [-1.12113985e+00,  2.90653201e-01],\n",
       "       [-8.42405962e-01,  1.17332758e+00],\n",
       "       [-6.01363685e-01,  1.30196910e+00],\n",
       "       [-7.29142300e-01,  1.10331945e+00],\n",
       "       [-1.13678857e+00,  8.13641320e-01],\n",
       "       [-1.16053243e+00,  5.68465389e-01],\n",
       "       [-6.30758473e-01,  1.05667259e+00],\n",
       "       [-4.56881135e-02,  2.56094931e+00],\n",
       "       [ 1.55309559e-01,  2.70572809e+00],\n",
       "       [-1.13829429e+00,  5.49719164e-01],\n",
       "       [-1.11097242e+00,  7.71292678e-01],\n",
       "       [-4.93750943e-01,  1.23184039e+00],\n",
       "       [-7.10397328e-01,  1.61004973e+00],\n",
       "       [-1.62265344e+00,  5.28140832e-01],\n",
       "       [-7.51380447e-01,  1.12206568e+00],\n",
       "       [-8.43826863e-01,  1.41127951e+00],\n",
       "       [-2.20207288e+00, -9.76015309e-01],\n",
       "       [-1.44889281e+00,  9.53220182e-01],\n",
       "       [-8.24313015e-01,  1.41838294e+00],\n",
       "       [-3.09053356e-01,  1.94917993e+00],\n",
       "       [-1.36360303e+00,  3.99963617e-01],\n",
       "       [-3.62960888e-01,  1.95833435e+00],\n",
       "       [-1.28172161e+00,  8.74057639e-01],\n",
       "       [-3.64466609e-01,  1.69441219e+00],\n",
       "       [-9.42295509e-01,  9.56052290e-01],\n",
       "       [ 1.17047282e+00, -1.72489454e-01],\n",
       "       [ 6.75463849e-01,  6.73659860e-02],\n",
       "       [ 1.06785897e+00, -3.63915095e-01],\n",
       "       [-8.10391141e-01, -1.51483031e+00],\n",
       "       [ 4.31977337e-01, -8.29319002e-01],\n",
       "       [-4.52251732e-02, -5.86854604e-01],\n",
       "       [ 7.46610632e-01,  3.01019695e-01],\n",
       "       [-1.28543656e+00, -1.05801640e+00],\n",
       "       [ 6.50781467e-01, -6.81931265e-01],\n",
       "       [-7.27571208e-01, -5.36614969e-01],\n",
       "       [-1.48802477e+00, -1.96859142e+00],\n",
       "       [ 6.33260831e-02, -1.52861990e-01],\n",
       "       [-4.78408168e-01, -1.93932479e+00],\n",
       "       [ 3.41603847e-01, -5.16382175e-01],\n",
       "       [-3.89566006e-01, -2.16668389e-01],\n",
       "       [ 7.71488259e-01, -2.45450267e-01],\n",
       "       [-3.38835864e-03, -9.66233161e-02],\n",
       "       [-1.29381189e-01, -8.25243932e-01],\n",
       "       [-3.19612192e-01, -1.99275825e+00],\n",
       "       [-5.45604997e-01, -1.14101287e+00],\n",
       "       [ 3.79295461e-01,  2.37650695e-01],\n",
       "       [ 2.82911591e-03, -6.47949471e-01],\n",
       "       [ 1.67758399e-01, -1.44333561e+00],\n",
       "       [ 3.23510900e-01, -7.61437533e-01],\n",
       "       [ 4.01813672e-01, -5.74988658e-01],\n",
       "       [ 6.21471498e-01, -4.25353686e-01],\n",
       "       [ 7.37576963e-01, -9.71265674e-01],\n",
       "       [ 8.26816693e-01, -4.92556608e-01],\n",
       "       [ 1.62277116e-01, -4.39708015e-01],\n",
       "       [-5.24787751e-01, -9.21807162e-01],\n",
       "       [-7.36520059e-01, -1.30702625e+00],\n",
       "       [-7.43024675e-01, -1.30939406e+00],\n",
       "       [-2.79965157e-01, -7.64948187e-01],\n",
       "       [ 1.99512603e-01, -9.31869714e-01],\n",
       "       [-1.29661253e-01, -3.13508041e-02],\n",
       "       [ 5.62285005e-01,  6.39248201e-01],\n",
       "       [ 8.59789476e-01, -2.70862520e-01],\n",
       "       [-1.41706363e-01, -1.83148048e+00],\n",
       "       [-9.81941911e-02, -7.35788720e-02],\n",
       "       [-6.36630511e-01, -1.08975096e+00],\n",
       "       [-3.51763313e-01, -9.49029252e-01],\n",
       "       [ 3.87585861e-01, -2.89952469e-01],\n",
       "       [-3.25947171e-01, -9.91377894e-01],\n",
       "       [-1.30918043e+00, -1.30319233e+00],\n",
       "       [-3.17936835e-01, -7.25087929e-01],\n",
       "       [ 4.02342399e-02, -1.36363001e-01],\n",
       "       [-8.10397585e-02, -3.32644835e-01],\n",
       "       [ 2.75540778e-01, -5.09716146e-01],\n",
       "       [-1.22937193e+00, -8.52821303e-01],\n",
       "       [-2.08818373e-01, -5.31294478e-01],\n",
       "       [ 9.68745378e-01,  2.66769854e-01],\n",
       "       [-2.99413432e-02, -8.17823679e-01],\n",
       "       [ 1.30987245e+00, -6.83080552e-01],\n",
       "       [ 6.98386706e-01, -6.41633607e-01],\n",
       "       [ 8.55761780e-01, -4.57115143e-01],\n",
       "       [ 1.91184278e+00, -9.43492053e-01],\n",
       "       [-9.48532430e-01, -8.98352218e-01],\n",
       "       [ 1.61603928e+00, -1.06522639e+00],\n",
       "       [ 6.85207836e-01, -1.65011739e+00],\n",
       "       [ 1.83851265e+00,  5.96772544e-01],\n",
       "       [ 8.12021677e-01,  3.26787458e-02],\n",
       "       [ 4.30673940e-01, -1.04142128e+00],\n",
       "       [ 9.56869906e-01, -5.29611658e-01],\n",
       "       [-3.42130403e-01, -1.18011890e+00],\n",
       "       [-1.15029447e-01, -5.23994799e-01],\n",
       "       [ 7.27500778e-01,  8.63084618e-02],\n",
       "       [ 8.70641615e-01, -4.80476413e-01],\n",
       "       [ 2.67652636e+00,  7.26556902e-01],\n",
       "       [ 1.68136550e+00, -1.83544142e+00],\n",
       "       [-2.41393587e-01, -1.99693590e+00],\n",
       "       [ 1.20677621e+00, -1.32432944e-01],\n",
       "       [-1.85524207e-01, -4.95973587e-01],\n",
       "       [ 1.87651058e+00, -1.43135553e+00],\n",
       "       [ 2.38337977e-01, -9.69482737e-01],\n",
       "       [ 1.23617100e+00,  1.12863561e-01],\n",
       "       [ 1.69084887e+00, -3.53301012e-01],\n",
       "       [ 2.21183544e-01, -7.10416774e-01],\n",
       "       [ 3.72706026e-01, -2.66591199e-01],\n",
       "       [ 5.71461787e-01, -8.38036015e-01],\n",
       "       [ 1.50407901e+00, -7.83115981e-01],\n",
       "       [ 1.47610513e+00, -1.26636442e+00],\n",
       "       [ 2.74889173e+00,  6.70438802e-01],\n",
       "       [ 5.37068104e-01, -8.21778174e-01],\n",
       "       [ 5.10195943e-01, -8.33496648e-01],\n",
       "       [ 4.49047603e-01, -1.27901148e+00],\n",
       "       [ 1.70170036e+00, -8.74162469e-01],\n",
       "       [ 9.26426177e-01,  5.18611814e-01],\n",
       "       [ 8.94385482e-01, -2.35300481e-01],\n",
       "       [ 2.68671279e-01, -2.20064912e-01],\n",
       "       [ 1.06598837e+00, -3.35818207e-01],\n",
       "       [ 9.18331022e-01, -2.49552235e-01],\n",
       "       [ 8.74506100e-01, -2.61632430e-01],\n",
       "       [-2.99413432e-02, -8.17823679e-01],\n",
       "       [ 1.22543637e+00, -1.27576751e-01],\n",
       "       [ 1.09859627e+00,  1.77894925e-01],\n",
       "       [ 7.02251191e-01, -4.22789625e-01],\n",
       "       [ 7.10819638e-02, -1.39219428e+00],\n",
       "       [ 6.79159348e-01, -4.06290636e-01],\n",
       "       [ 8.15886813e-01,  5.62770293e-01],\n",
       "       [ 3.28229732e-01, -2.29098750e-01]])"
      ]
     },
     "execution_count": 61,
     "metadata": {},
     "output_type": "execute_result"
    }
   ],
   "source": [
    "X_pca"
   ]
  },
  {
   "cell_type": "markdown",
   "id": "2a2fe8d4-4bd9-4c82-a7de-2cc4c409c429",
   "metadata": {},
   "source": [
    "Visualize the data."
   ]
  },
  {
   "cell_type": "code",
   "execution_count": 62,
   "id": "a8c560b8-7314-4d17-9bc1-8ae2a43f689c",
   "metadata": {},
   "outputs": [
    {
     "data": {
      "image/png": "[encoded data removed]",
      "text/plain": [
       "<Figure size 800x600 with 1 Axes>"
      ]
     },
     "metadata": {},
     "output_type": "display_data"
    }
   ],
   "source": [
    "plt.figure(figsize=(8, 6))\n",
    "for target, color, label in zip([0, 1, 2], ['r', 'g', 'b'], iris.target_names):\n",
    "    plt.scatter(X_pca[y == target, 0], X_pca[y == target, 1], color=color, label=label)\n",
    "\n",
    "plt.title(\"PCA of Iris Dataset\")\n",
    "plt.xlabel(\"Principal Component 1\")\n",
    "plt.ylabel(\"Principal Component 2\")\n",
    "plt.legend()\n",
    "plt.show()"
   ]
  },
  {
   "cell_type": "markdown",
   "id": "6d7e1224-4c5f-4a63-b1eb-3352dce71439",
   "metadata": {},
   "source": [
    "### Applying PCA to Machine Learning Problem"
   ]
  },
  {
   "cell_type": "code",
   "execution_count": 63,
   "id": "155f4d10-9c89-4950-a518-7efc7762c2f9",
   "metadata": {},
   "outputs": [],
   "source": [
    "X_train, X_test, y_train, y_test = train_test_split(\n",
    "    X, y, test_size=0.2, random_state=42)"
   ]
  },
  {
   "cell_type": "code",
   "execution_count": 64,
   "id": "8e9ec500-4dd4-49cb-a7e6-a57a5ca5751a",
   "metadata": {},
   "outputs": [],
   "source": [
    "scaler = StandardScaler()"
   ]
  },
  {
   "cell_type": "code",
   "execution_count": 65,
   "id": "19c28e3a-cf82-4198-a95d-21fe38f5bdcb",
   "metadata": {},
   "outputs": [],
   "source": [
    "X_train_scaled = scaler.fit_transform(X_train)\n",
    "X_test_scaled = scaler.transform(X_test)"
   ]
  },
  {
   "cell_type": "code",
   "execution_count": 66,
   "id": "a31f9e60-bb56-4996-a992-bf58a9f87682",
   "metadata": {},
   "outputs": [],
   "source": [
    "pca = PCA(n_components=no_components, random_state=42)"
   ]
  },
  {
   "cell_type": "code",
   "execution_count": 67,
   "id": "e37b10c4-7f67-400e-9507-a1553cf9e964",
   "metadata": {},
   "outputs": [],
   "source": [
    "X_train_pca = pca.fit_transform(X_train_scaled)\n",
    "X_test_pca = pca.transform(X_test_scaled)"
   ]
  },
  {
   "cell_type": "markdown",
   "id": "35ea3596-721c-488d-b3ad-fb76f9658eaf",
   "metadata": {},
   "source": [
    "#### Apply PCA to Breast Cancer Dataset"
   ]
  },
  {
   "cell_type": "markdown",
   "id": "c1ca8cc1-a493-4d3a-8efd-20155d7d497e",
   "metadata": {},
   "source": [
    "- Train an SVM classifier with RBF kernel to build a baseline.\n",
    "- Use PCA to perform dimensionality reduction on the dataset and report how many components you have to retain to maintain the same performance."
   ]
  },
  {
   "cell_type": "markdown",
   "id": "832e8b5a-6482-4685-aa83-f85cd4407ab6",
   "metadata": {},
   "source": [
    "Load Breast Cancer dataset."
   ]
  },
  {
   "cell_type": "code",
   "execution_count": 68,
   "id": "eca304b8-9a00-4de1-b741-aced232160d4",
   "metadata": {},
   "outputs": [],
   "source": [
    "data = load_breast_cancer()\n",
    "X = data.data\n",
    "y = data.target"
   ]
  },
  {
   "cell_type": "code",
   "execution_count": 69,
   "id": "3728974d-7be4-44e1-a394-d701dbc5f764",
   "metadata": {},
   "outputs": [],
   "source": [
    "cancer_data = pd.DataFrame(X, columns=data.feature_names)\n",
    "cancer_data['target'] = y"
   ]
  },
  {
   "cell_type": "code",
   "execution_count": 70,
   "id": "3481b5bd-4147-4d3e-8ae9-9e8bdde77865",
   "metadata": {},
   "outputs": [
    {
     "data": {
      "text/html": [
       "<div>\n",
       "<style scoped>\n",
       "    .dataframe tbody tr th:only-of-type {\n",
       "        vertical-align: middle;\n",
       "    }\n",
       "\n",
       "    .dataframe tbody tr th {\n",
       "        vertical-align: top;\n",
       "    }\n",
       "\n",
       "    .dataframe thead th {\n",
       "        text-align: right;\n",
       "    }\n",
       "</style>\n",
       "<table border=\"1\" class=\"dataframe\">\n",
       "  <thead>\n",
       "    <tr style=\"text-align: right;\">\n",
       "      <th></th>\n",
       "      <th>mean radius</th>\n",
       "      <th>mean texture</th>\n",
       "      <th>mean perimeter</th>\n",
       "      <th>mean area</th>\n",
       "      <th>mean smoothness</th>\n",
       "      <th>mean compactness</th>\n",
       "      <th>mean concavity</th>\n",
       "      <th>mean concave points</th>\n",
       "      <th>mean symmetry</th>\n",
       "      <th>mean fractal dimension</th>\n",
       "      <th>...</th>\n",
       "      <th>worst texture</th>\n",
       "      <th>worst perimeter</th>\n",
       "      <th>worst area</th>\n",
       "      <th>worst smoothness</th>\n",
       "      <th>worst compactness</th>\n",
       "      <th>worst concavity</th>\n",
       "      <th>worst concave points</th>\n",
       "      <th>worst symmetry</th>\n",
       "      <th>worst fractal dimension</th>\n",
       "      <th>target</th>\n",
       "    </tr>\n",
       "  </thead>\n",
       "  <tbody>\n",
       "    <tr>\n",
       "      <th>0</th>\n",
       "      <td>17.99</td>\n",
       "      <td>10.38</td>\n",
       "      <td>122.80</td>\n",
       "      <td>1001.0</td>\n",
       "      <td>0.11840</td>\n",
       "      <td>0.27760</td>\n",
       "      <td>0.3001</td>\n",
       "      <td>0.14710</td>\n",
       "      <td>0.2419</td>\n",
       "      <td>0.07871</td>\n",
       "      <td>...</td>\n",
       "      <td>17.33</td>\n",
       "      <td>184.60</td>\n",
       "      <td>2019.0</td>\n",
       "      <td>0.1622</td>\n",
       "      <td>0.6656</td>\n",
       "      <td>0.7119</td>\n",
       "      <td>0.2654</td>\n",
       "      <td>0.4601</td>\n",
       "      <td>0.11890</td>\n",
       "      <td>0</td>\n",
       "    </tr>\n",
       "    <tr>\n",
       "      <th>1</th>\n",
       "      <td>20.57</td>\n",
       "      <td>17.77</td>\n",
       "      <td>132.90</td>\n",
       "      <td>1326.0</td>\n",
       "      <td>0.08474</td>\n",
       "      <td>0.07864</td>\n",
       "      <td>0.0869</td>\n",
       "      <td>0.07017</td>\n",
       "      <td>0.1812</td>\n",
       "      <td>0.05667</td>\n",
       "      <td>...</td>\n",
       "      <td>23.41</td>\n",
       "      <td>158.80</td>\n",
       "      <td>1956.0</td>\n",
       "      <td>0.1238</td>\n",
       "      <td>0.1866</td>\n",
       "      <td>0.2416</td>\n",
       "      <td>0.1860</td>\n",
       "      <td>0.2750</td>\n",
       "      <td>0.08902</td>\n",
       "      <td>0</td>\n",
       "    </tr>\n",
       "    <tr>\n",
       "      <th>2</th>\n",
       "      <td>19.69</td>\n",
       "      <td>21.25</td>\n",
       "      <td>130.00</td>\n",
       "      <td>1203.0</td>\n",
       "      <td>0.10960</td>\n",
       "      <td>0.15990</td>\n",
       "      <td>0.1974</td>\n",
       "      <td>0.12790</td>\n",
       "      <td>0.2069</td>\n",
       "      <td>0.05999</td>\n",
       "      <td>...</td>\n",
       "      <td>25.53</td>\n",
       "      <td>152.50</td>\n",
       "      <td>1709.0</td>\n",
       "      <td>0.1444</td>\n",
       "      <td>0.4245</td>\n",
       "      <td>0.4504</td>\n",
       "      <td>0.2430</td>\n",
       "      <td>0.3613</td>\n",
       "      <td>0.08758</td>\n",
       "      <td>0</td>\n",
       "    </tr>\n",
       "    <tr>\n",
       "      <th>3</th>\n",
       "      <td>11.42</td>\n",
       "      <td>20.38</td>\n",
       "      <td>77.58</td>\n",
       "      <td>386.1</td>\n",
       "      <td>0.14250</td>\n",
       "      <td>0.28390</td>\n",
       "      <td>0.2414</td>\n",
       "      <td>0.10520</td>\n",
       "      <td>0.2597</td>\n",
       "      <td>0.09744</td>\n",
       "      <td>...</td>\n",
       "      <td>26.50</td>\n",
       "      <td>98.87</td>\n",
       "      <td>567.7</td>\n",
       "      <td>0.2098</td>\n",
       "      <td>0.8663</td>\n",
       "      <td>0.6869</td>\n",
       "      <td>0.2575</td>\n",
       "      <td>0.6638</td>\n",
       "      <td>0.17300</td>\n",
       "      <td>0</td>\n",
       "    </tr>\n",
       "    <tr>\n",
       "      <th>4</th>\n",
       "      <td>20.29</td>\n",
       "      <td>14.34</td>\n",
       "      <td>135.10</td>\n",
       "      <td>1297.0</td>\n",
       "      <td>0.10030</td>\n",
       "      <td>0.13280</td>\n",
       "      <td>0.1980</td>\n",
       "      <td>0.10430</td>\n",
       "      <td>0.1809</td>\n",
       "      <td>0.05883</td>\n",
       "      <td>...</td>\n",
       "      <td>16.67</td>\n",
       "      <td>152.20</td>\n",
       "      <td>1575.0</td>\n",
       "      <td>0.1374</td>\n",
       "      <td>0.2050</td>\n",
       "      <td>0.4000</td>\n",
       "      <td>0.1625</td>\n",
       "      <td>0.2364</td>\n",
       "      <td>0.07678</td>\n",
       "      <td>0</td>\n",
       "    </tr>\n",
       "  </tbody>\n",
       "</table>\n",
       "<p>5 rows × 31 columns</p>\n",
       "</div>"
      ],
      "text/plain": [
       "   mean radius  mean texture  mean perimeter  mean area  mean smoothness  \\\n",
       "0        17.99         10.38          122.80     1001.0          0.11840   \n",
       "1        20.57         17.77          132.90     1326.0          0.08474   \n",
       "2        19.69         21.25          130.00     1203.0          0.10960   \n",
       "3        11.42         20.38           77.58      386.1          0.14250   \n",
       "4        20.29         14.34          135.10     1297.0          0.10030   \n",
       "\n",
       "   mean compactness  mean concavity  mean concave points  mean symmetry  \\\n",
       "0           0.27760          0.3001              0.14710         0.2419   \n",
       "1           0.07864          0.0869              0.07017         0.1812   \n",
       "2           0.15990          0.1974              0.12790         0.2069   \n",
       "3           0.28390          0.2414              0.10520         0.2597   \n",
       "4           0.13280          0.1980              0.10430         0.1809   \n",
       "\n",
       "   mean fractal dimension  ...  worst texture  worst perimeter  worst area  \\\n",
       "0                 0.07871  ...          17.33           184.60      2019.0   \n",
       "1                 0.05667  ...          23.41           158.80      1956.0   \n",
       "2                 0.05999  ...          25.53           152.50      1709.0   \n",
       "3                 0.09744  ...          26.50            98.87       567.7   \n",
       "4                 0.05883  ...          16.67           152.20      1575.0   \n",
       "\n",
       "   worst smoothness  worst compactness  worst concavity  worst concave points  \\\n",
       "0            0.1622             0.6656           0.7119                0.2654   \n",
       "1            0.1238             0.1866           0.2416                0.1860   \n",
       "2            0.1444             0.4245           0.4504                0.2430   \n",
       "3            0.2098             0.8663           0.6869                0.2575   \n",
       "4            0.1374             0.2050           0.4000                0.1625   \n",
       "\n",
       "   worst symmetry  worst fractal dimension  target  \n",
       "0          0.4601                  0.11890       0  \n",
       "1          0.2750                  0.08902       0  \n",
       "2          0.3613                  0.08758       0  \n",
       "3          0.6638                  0.17300       0  \n",
       "4          0.2364                  0.07678       0  \n",
       "\n",
       "[5 rows x 31 columns]"
      ]
     },
     "execution_count": 70,
     "metadata": {},
     "output_type": "execute_result"
    }
   ],
   "source": [
    "cancer_data.head()"
   ]
  },
  {
   "cell_type": "code",
   "execution_count": 71,
   "id": "51eaae48-8c5d-4eb0-8315-8085bb515d62",
   "metadata": {},
   "outputs": [
    {
     "data": {
      "text/plain": [
       "(569, 31)"
      ]
     },
     "execution_count": 71,
     "metadata": {},
     "output_type": "execute_result"
    }
   ],
   "source": [
    "cancer_data.shape"
   ]
  },
  {
   "cell_type": "markdown",
   "id": "442ef048-a223-48aa-889f-3f78ae885d25",
   "metadata": {},
   "source": [
    "- Split the data into training and test sets.\n",
    "- Standardize the data\n",
    "- Build an SVM classifier with RBF kernel\n",
    "- Calculate accuracy of classifier\n",
    "- Apply PCA to reduce dimensionality of data\n",
    "- Build an SVM classifier with RBF kernel using reduced data\n",
    "- Calculate accuracy of classifier with reduced dimensions\n",
    "- Find number of reduced dimensions that result in same peformance"
   ]
  },
  {
   "cell_type": "code",
   "execution_count": 72,
   "id": "37c853be-6165-48ad-81e2-9e8f64cc59ab",
   "metadata": {},
   "outputs": [],
   "source": [
    "X_train,X_test,y_train,y_test=train_test_split(X,y,test_size=0.2,random_state=42)\n"
   ]
  },
  {
   "cell_type": "code",
   "execution_count": 73,
   "id": "b8bd8f03-8110-40fd-9f15-4a3b36d1d518",
   "metadata": {},
   "outputs": [],
   "source": [
    "scaler=StandardScaler()\n",
    "X_train_scaled=scaler.fit_transform(X_train)\n",
    "X_test_scaled=scaler.transform(X_test)\n"
   ]
  },
  {
   "cell_type": "code",
   "execution_count": 74,
   "id": "9f67a376",
   "metadata": {},
   "outputs": [
    {
     "name": "stdout",
     "output_type": "stream",
     "text": [
      "accuracy before reducing the dimensions is 0.9824561403508771\n"
     ]
    }
   ],
   "source": [
    "model_svm=SVC(C=1.0,kernel='rbf',random_state=42)\n",
    "model_svm.fit(X_train_scaled,y_train)\n",
    "score=model_svm.score(X_test_scaled,y_test)\n",
    "print(f\"accuracy before reducing the dimensions is {score}\")"
   ]
  },
  {
   "cell_type": "code",
   "execution_count": 75,
   "id": "7625d856",
   "metadata": {},
   "outputs": [],
   "source": [
    "n_components=2\n",
    "pca=PCA(n_components=n_components,random_state=42)\n",
    "X_train_pca=pca.fit_transform(X_train_scaled)\n",
    "X_test_pca=pca.transform(X_test_scaled)\n"
   ]
  },
  {
   "cell_type": "code",
   "execution_count": 76,
   "id": "98678c0e",
   "metadata": {},
   "outputs": [
    {
     "name": "stdout",
     "output_type": "stream",
     "text": [
      "accuracy after reducing the dimensions is 0.9649122807017544\n"
     ]
    }
   ],
   "source": [
    "model_svm_reduced=model_svm.fit(X_train_pca,y_train)\n",
    "score_2=model_svm.score(X_test_pca,y_test)\n",
    "print(f\"accuracy after reducing the dimensions is {score_2}\")"
   ]
  },
  {
   "cell_type": "code",
   "execution_count": 77,
   "id": "728f9d39",
   "metadata": {},
   "outputs": [
    {
     "data": {
      "text/plain": [
       "30"
      ]
     },
     "execution_count": 77,
     "metadata": {},
     "output_type": "execute_result"
    }
   ],
   "source": [
    "len(X[0])"
   ]
  },
  {
   "cell_type": "code",
   "execution_count": 78,
   "id": "1ad3f13e",
   "metadata": {},
   "outputs": [
    {
     "name": "stdout",
     "output_type": "stream",
     "text": [
      "accuracy after reducing the dimensions to 2 is 0.9649122807017544\n",
      "accuracy after reducing the dimensions to 3 is 0.9473684210526315\n",
      "accuracy after reducing the dimensions to 4 is 0.9649122807017544\n",
      "accuracy after reducing the dimensions to 5 is 0.9649122807017544\n",
      "accuracy after reducing the dimensions to 6 is 0.9736842105263158\n",
      "accuracy after reducing the dimensions to 7 is 0.9736842105263158\n",
      "accuracy after reducing the dimensions to 8 is 0.9649122807017544\n",
      "accuracy after reducing the dimensions to 9 is 0.9649122807017544\n",
      "accuracy after reducing the dimensions to 10 is 0.9649122807017544\n",
      "accuracy after reducing the dimensions to 11 is 0.9736842105263158\n",
      "accuracy after reducing the dimensions to 12 is 0.9736842105263158\n",
      "accuracy after reducing the dimensions to 13 is 0.9736842105263158\n",
      "accuracy after reducing the dimensions to 14 is 0.9824561403508771\n",
      "the accuracy is equal to original\n"
     ]
    }
   ],
   "source": [
    "\n",
    "for i in range(2,31):\n",
    "    n_components=i\n",
    "    pca=PCA(n_components=n_components,random_state=42)\n",
    "    X_train_pca=pca.fit_transform(X_train_scaled)\n",
    "    X_test_pca=pca.transform(X_test_scaled)\n",
    "    model_svm_reduced=model_svm.fit(X_train_pca,y_train)\n",
    "    score_2=model_svm.score(X_test_pca,y_test)\n",
    "    print(f\"accuracy after reducing the dimensions to {i} is {score_2}\")\n",
    "    if score_2==score:\n",
    "        print(\"the accuracy is equal to original\")\n",
    "        break"
   ]
  }
 ],
 "metadata": {
  "kernelspec": {
   "display_name": "Python 3",
   "language": "python",
   "name": "python3"
  },
  "language_info": {
   "codemirror_mode": {
    "name": "ipython",
    "version": 3
   },
   "file_extension": ".py",
   "mimetype": "text/x-python",
   "name": "python",
   "nbconvert_exporter": "python",
   "pygments_lexer": "ipython3",
   "version": "3.11.0"
  }
 },
 "nbformat": 4,
 "nbformat_minor": 5
}
